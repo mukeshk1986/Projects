{
 "cells": [
  {
   "cell_type": "markdown",
   "metadata": {},
   "source": [
    "# Machine Learning Project Code\n",
    "## Members: Alejandro Garcia, Mukesh Kumar, Selcen"
   ]
  },
  {
   "cell_type": "markdown",
   "metadata": {},
   "source": [
    "# Dataset:\n",
    "\n",
    "Our dataset is the spotify data provided in class. This data has the reactions of 10 users to various songs."
   ]
  },
  {
   "cell_type": "markdown",
   "metadata": {},
   "source": [
    "## 1 : Import necessary packages and modules"
   ]
  },
  {
   "cell_type": "code",
   "execution_count": 31,
   "metadata": {},
   "outputs": [],
   "source": [
    "import numpy as np\n",
    "import matplotlib.pyplot as plt\n",
    "import os,sys\n",
    "import pandas as pd\n",
    "import sklearn.metrics\n",
    "import sklearn.preprocessing\n",
    "from sklearn.model_selection import train_test_split\n",
    "from sklearn.neighbors import KNeighborsClassifier\n",
    "from sklearn.linear_model import LogisticRegression\n",
    "import collections"
   ]
  },
  {
   "cell_type": "markdown",
   "metadata": {},
   "source": [
    "## 2 : Define classes for project.\n",
    "\n",
    "In this case we have two classes: musicFan() and songs(). musicFan() is intanced using data from each user"
   ]
  },
  {
   "cell_type": "code",
   "execution_count": 18,
   "metadata": {},
   "outputs": [],
   "source": [
    "class musicFan:\n",
    "    \n",
    "    keys = np.array([\"danceability\",\"energy\",\"key\",\"loudness\",\"mode\",\"speechiness\",\"acousticness\",\"instrumentalness\"\\\n",
    "            ,\"liveness\",\"valence\",\"tempo\"])\n",
    "    indices = [0,1,2,3,4,5,6,7,8,9,10]\n",
    "    \n",
    "    def __init__(self,ID,tastes):\n",
    "        \n",
    "        self.ID = ID\n",
    "        self.session = np.int_(tastes[11])\n",
    "        self.dataID = np.array(tastes[13],dtype = \"str\")\n",
    "        #self.songID = tastes[14] #this has issues right now, always use dataID\n",
    "        self.response = np.int_(tastes[12]) == 1 #Mask array of True or False where True is like and False is no like.\n",
    "        self.tastes = np.array([np.float64(tastes[0]), np.float64(tastes[1]), np.int_(tastes[2])\\\n",
    "                       , np.float64(tastes[3]), np.int_(tastes[4]), np.float64(tastes[5]),\\\n",
    "                       np.float64(tastes[6]), np.float64(tastes[7]), np.float64(tastes[8])\\\n",
    "                       , np.float64(tastes[9]), np.float64(tastes[10])]).T\n",
    "        self.songNames = []\n",
    "        self.simSongsNames = []\n",
    "        self.simSongsID = []\n",
    "        self.fMask = [True,True,True,True,False,True,True,False,True,False,True]\n",
    "        #Discarded features: Valence,Instrumentalness\n",
    "        #self.fMask = [True,True,True,True,True,True,True,True,True,True,True]\n",
    "        \n",
    "        print(\"CREATING musicFan INSTANCE FOR USER:\",self.ID,\"WITH ITEMxFEATURE MATRIX OF SHAPE:\",self.tastes.shape)\n",
    "        print(\"*----------------------------------------------------*\")\n",
    "        \n",
    "        if not os.path.exists(\"UserOutput\"):\n",
    "            os.makedirs(\"UserOutput\")\n",
    "        if not os.path.exists(\"UserOutput/User\"+str(self.ID)):\n",
    "            os.makedirs(\"UserOutput/User\"+str(self.ID))\n",
    "        \n",
    "        \n",
    "    def getFromData(self,dataBase):\n",
    "        print(\"GETTING ADDITONAL DATA FROM DB FILE FOR USER:\",self.ID)\n",
    "        print(\"*----------------------------------------------------*\")\n",
    "        self.songNames = []\n",
    "        songNames = np.array(dataBase[\"song_name\"])\n",
    "        dID = np.array(dataBase[\"database_id\"])\n",
    "        for i in range(len(self.dataID)):\n",
    "            for x in range(len(songNames)):\n",
    "                if dID[x] in self.dataID[i]:\n",
    "                    self.songNames.append(songNames[x])\n",
    "        self.songNames = np.array(self.songNames)\n",
    "\n",
    "        \n",
    "    def mean(self):\n",
    "        self.mean_Tastes = np.mean(self.tastes, axis = 1)\n",
    "        self.median_Tastes = np.median(self.tastes, axis = 1)\n",
    "        self.percent_Positive = np.mean(self.response)\n",
    "        print(\"For musicFan \"+str(self.ID)+\" the mean values are:\\n\",self.mean_Tastes,\"\\n\",\"The median values are:\\n\"\\\n",
    "              ,self.median_Tastes,\"\\n\",\"Percent positive: \" +str(self.percent_Positive)+\"\\n\")\n",
    "        #return self.mean_Tastes\n",
    "\n",
    "    def makeScatters(self,songs):\n",
    "        num_Comb = 55\n",
    "        \n",
    "        if not os.path.exists(\"UserOutput/User\"+str(self.ID)+\"/scatters\"):\n",
    "            os.makedirs(\"UserOutput/User\"+str(self.ID)+\"/scatters\")\n",
    "        \n",
    "        combinations = []\n",
    "        \n",
    "        for i in self.indices:\n",
    "            for j in self.indices:\n",
    "                if [i,j] not in combinations and [j,i] not in combinations and i != j:\n",
    "                    combinations.append([i,j])\n",
    "        for i in combinations:\n",
    "            fig1, ax1 = plt.subplots()\n",
    "            ax1.scatter(songs.features[:,i[0]][::500],songs.features[:,i[1]][::500], color = \"red\")\n",
    "            ax1.scatter(self.tastes[:,i[0]][self.response==1],self.tastes[:,i[1]][self.response==1], color = \"blue\")\n",
    "            ax1.set_xlabel(self.keys[i[0]])\n",
    "            ax1.set_ylabel(self.keys[i[1]])\n",
    "            ax1.set_title(self.keys[i[0]]+\"vs.\"+self.keys[i[1]])\n",
    "            plt.savefig(\"UserOutput/User\"+str(self.ID)+\"/scatters/\"+self.keys[i[0]]+\"_\"+self.keys[i[1]]+\".png\")\n",
    "            plt.close(\"all\")\n",
    "            \n",
    "        print(combinations)\n",
    "        print(len(combinations))\n",
    "        \n",
    "    def makeHistos(self,songs):\n",
    "        \n",
    "        if not os.path.exists(\"UserOutput/User\"+str(self.ID)+\"/histograms\"):\n",
    "            os.makedirs(\"UserOutput/User\"+str(self.ID)+\"/histograms\")\n",
    "        \n",
    "        for i in self.indices:\n",
    "            fig1, ax1 = plt.subplots()\n",
    "            ax1.grid(linestyle=\"--\")\n",
    "            #ax1.hist(songs.features[:,i], bins = 20, color = \"black\",density=True,histtype = \"step\")#all songs\n",
    "            ax1.hist(self.tastes[:,i][self.response==0], bins = 20, color = \"red\",density=True,histtype = \"step\",label=\"0\",linewidth=2.0)#song with no like\n",
    "            ax1.hist(self.tastes[:,i][self.response==1], bins = 20, color = \"blue\",density=True,histtype = \"step\",label=\"1\",linewidth=2.0)#songs liked\n",
    "            ax1.set_xlabel(self.keys[i])\n",
    "            ax1.set_ylabel(\"normalized count\")\n",
    "            ax1.set_title(\"Histogram of \"+self.keys[i]+\" for User: \"+str(self.ID))\n",
    "            ax1.legend()\n",
    "            plt.savefig(\"UserOutput/User\"+str(self.ID)+\"/histograms/\"+self.keys[i]+\"_histogram\"+\".png\")\n",
    "            plt.close(\"all\")\n",
    "            \n",
    "    def cosineSimilarity(self,songs,outputRec = False):\n",
    "        a = sklearn.preprocessing.normalize(self.tastes[:,self.fMask][self.response == 1],axis=0)\n",
    "        print(self.tastes[:,self.fMask][self.response == 1].shape)\n",
    "        b = sklearn.preprocessing.normalize(songs.features[:,self.fMask],axis=0)\n",
    "        print(songs.features[:,self.fMask].shape)\n",
    "        cSim = sklearn.metrics.pairwise.cosine_similarity(a,b)\n",
    "        self.simSongsNames = np.array([songs.name[i>0.95] for i in cSim])\n",
    "        self.simSongsID = np.array([songs.ID[i>0.95] for i in cSim])\n",
    "        if outputRec:\n",
    "            a = np.concatenate([songs.ID[cSim[i]>0.95] for i in range(len(cSim))])\n",
    "            b = collections.Counter(a).most_common() #returns a count of values        \n",
    "            print(\"Recommended songs for user:\",self.ID,\".\")\n",
    "            print(\"ID\",b[0:10])\n",
    "            return b\n",
    "        print(\"Cosinesimilarity successful for user:\",self.ID,\".\")\n",
    "    \n",
    "    def train_Test(userList,cSim=False,KNN=False,logistic=False):\n",
    "        print(\"INITIATING MODEL TESTING\")\n",
    "        print(\"*----------------------------------------------------*\")\n",
    "        if cSim:\n",
    "            print(\"For a user, i, the chance of cosineSimilarity recommendation being better than random song picks is:\\n\")\n",
    "            for i in userList:\n",
    "                plus = 0\n",
    "                size = 0\n",
    "                for y in range(100):\n",
    "                    X_train, X_test, y_train, y_test = train_test_split(i.tastes,i.response,test_size = 0.3, random_state=y)\n",
    "                    a = sklearn.preprocessing.normalize(X_train[:,i.fMask][y_train == 1],axis=0)\n",
    "                    b = sklearn.preprocessing.normalize(X_test[:,i.fMask],axis=0)\n",
    "                    labels = np.array([str(x) for x in range(len(b))])\n",
    "                    cSim = sklearn.metrics.pairwise.cosine_similarity(a,b)\n",
    "                    c = np.concatenate([labels[cSim[x]>0.985] for x in range(len(cSim))])\n",
    "                    d = collections.Counter(c).most_common() #returns a count of values\n",
    "                    if y_test[[int(x[0]) for x in d[0:10]]].sum()/len(y_test[[int(x[0]) for x in d[0:10]]]) > y_test.sum()/len(y_test):\n",
    "                        plus = plus+1\n",
    "                        size = size + len(y_test[[int(x[0]) for x in d[0:10]]])\n",
    "                print(\"For:\",i.ID,\":\",plus/(y+1))\n",
    "        if KNN:\n",
    "            print(\"For a user, i, the average accuracy of KNN recommendation is:\\n\")\n",
    "            for i in userList:\n",
    "                acc = 0\n",
    "                for y in range(100):\n",
    "                    X_train, X_test, y_train, y_test = train_test_split(i.tastes,i.response,test_size = 0.3, random_state=y)\n",
    "                    X_train = sklearn.preprocessing.normalize(X_train,axis=0)\n",
    "                    X_test = sklearn.preprocessing.normalize(X_test,axis=0)\n",
    "                    knn = KNeighborsClassifier(n_neighbors=5)\n",
    "                    knn.fit(X_train[:,i.fMask], y_train)\n",
    "                    y_Pred = knn.predict(X_test[:,i.fMask])\n",
    "                    acc = acc + sklearn.metrics.accuracy_score(y_test,y_Pred)\n",
    "                print(\"For:\",i.ID,\":\",acc/(y+1))\n",
    "        if logistic:\n",
    "            print(\"For a user, i, the average accuracy of logistic regression recommendation is:\\n\")\n",
    "            for i in userList:\n",
    "                acc = 0\n",
    "                for y in range(100):\n",
    "                    X_train, X_test, y_train, y_test = train_test_split(i.tastes,i.response,test_size = 0.3, random_state=y)\n",
    "                    X_train = sklearn.preprocessing.normalize(X_train,axis=0)\n",
    "                    X_test = sklearn.preprocessing.normalize(X_test,axis=0)\n",
    "                    logReg = LogisticRegression(solver='lbfgs')\n",
    "                    logReg.fit(X_train[:,i.fMask], y_train)\n",
    "                    y_Pred = logReg.predict(X_test[:,i.fMask])\n",
    "                    acc = acc + sklearn.metrics.accuracy_score(y_test,y_Pred)\n",
    "                print(\"For:\",i.ID,\":\",acc/(y+1))\n",
    "                \n",
    "        print(\"*----------------------------------------------------*\")\n",
    "        print(\"MODEL TESTING COMPLETE\")"
   ]
  },
  {
   "cell_type": "code",
   "execution_count": 19,
   "metadata": {},
   "outputs": [],
   "source": [
    "class songs:\n",
    "\n",
    "    keys = [\"danceability\",\"energy\",\"key\",\"loudness\",\"mode\",\"speechiness\",\"acousticness\",\"instrumentalness\"\\\n",
    "            ,\"liveness\",\"valence\",\"tempo\"]\n",
    "    \n",
    "    def __init__(self,features):\n",
    "        \n",
    "        self.ID = features[:,18]\n",
    "        self.name = features[:,19]\n",
    "        self.albumID = features[:,2]\n",
    "        self.albumName = features[:,3]\n",
    "        self.artistID = features[:,5]\n",
    "        self.artistName = features[:,6]\n",
    "        self.year = features[:,26]\n",
    "        self.features = np.array([np.float64(features[:,7]), np.float64(features[:,10]), np.float64(features[:,12]), np.float64(features[:,14]),\\\n",
    "                                    np.int_(features[:,15]), np.float64(features[:,20]), np.float64(features[:,1]),\\\n",
    "                                    np.float64(features[:,11]),np.float64(features[:,13]),np.float64(features[:,25]),np.float64(features[:,21])]).T\n",
    "        \n",
    "        print(\"CREATING songs INSTANCE WITH ITEMxFEATURE MATRIX OF SHAPE:\",self.features.shape)\n",
    "        print(\"*----------------------------------------------------*\")"
   ]
  },
  {
   "cell_type": "code",
   "execution_count": 20,
   "metadata": {},
   "outputs": [
    {
     "name": "stdout",
     "output_type": "stream",
     "text": [
      "C:\\Users\\agarc\\Anaconda3\\lib\\site-packages\n"
     ]
    }
   ],
   "source": [
    "#setting the working directory to file location\n",
    "#filepath = os.path.dirname(os.path.abspath(sys.argv[0]))\n",
    "os.chdir(\"C:\\\\Users\\\\agarc\\\\Documents\\\\GitHub\\\\Projects\\\\Spotify\")\n",
    "print(filepath)"
   ]
  },
  {
   "cell_type": "code",
   "execution_count": 21,
   "metadata": {},
   "outputs": [
    {
     "name": "stdout",
     "output_type": "stream",
     "text": [
      "LOADING FILES\n",
      "*----------------------------------------------------*\n"
     ]
    }
   ],
   "source": [
    "#opening all user data and music data\n",
    "print(\"LOADING FILES\")\n",
    "print(\"*----------------------------------------------------*\")\n",
    "user_Filenames = os.listdir(\"user_data\")\n",
    "music_Filenames = os.listdir(\"music_data\")\n",
    "#----------------------------------------------------------------------------------------------------#\n",
    "data_Base = pd.read_csv(\"user_data/database.csv\",delimiter = \",\", dtype = \"str\")\n",
    "#----------------------------------------------------------------------------------------------------#\n",
    "user_Files = [pd.read_csv(\"user_data/\"+i,delimiter = \",\", dtype = \"str\") for i in user_Filenames if \"alpha\" in i]\n",
    "for i in range(len(user_Files)):\n",
    "    user_Files[i][\"spotify_id\"] = data_Base[\"spotify_id\"][data_Base[\"database_id\"].isin(user_Files[i][\"database_id\"])]\n",
    "user_Data = pd.concat(user_Files).values\n",
    "#----------------------------------------------------------------------------------------------------#\n",
    "music_Files = [pd.read_csv(\"music_data/\"+i,delimiter = \",\", dtype = \"str\") for i in music_Filenames]\n",
    "for i in range(len(music_Files)):\n",
    "    music_Files[i][\"year\"] = music_Filenames[i][:-4]\n",
    "music_Data = pd.concat(music_Files).values\n",
    "#----------------------------------------------------------------------------------------------------#"
   ]
  },
  {
   "cell_type": "code",
   "execution_count": 23,
   "metadata": {},
   "outputs": [
    {
     "name": "stdout",
     "output_type": "stream",
     "text": [
      "CREATING songs INSTANCE WITH ITEMxFEATURE MATRIX OF SHAPE: (265119, 11)\n",
      "*----------------------------------------------------*\n"
     ]
    }
   ],
   "source": [
    "#initializing a set of user objects based on the musicFan class\n",
    "m_Fans = []\n",
    "songs = songs(music_Data[np.isfinite(np.float64(music_Data[:,7]))])"
   ]
  },
  {
   "cell_type": "code",
   "execution_count": 25,
   "metadata": {},
   "outputs": [
    {
     "name": "stdout",
     "output_type": "stream",
     "text": [
      "CREATING musicFan INSTANCE FOR USER: 0 WITH ITEMxFEATURE MATRIX OF SHAPE: (338, 11)\n",
      "*----------------------------------------------------*\n",
      "CREATING musicFan INSTANCE FOR USER: 1 WITH ITEMxFEATURE MATRIX OF SHAPE: (393, 11)\n",
      "*----------------------------------------------------*\n",
      "CREATING musicFan INSTANCE FOR USER: 2 WITH ITEMxFEATURE MATRIX OF SHAPE: (410, 11)\n",
      "*----------------------------------------------------*\n",
      "CREATING musicFan INSTANCE FOR USER: 3 WITH ITEMxFEATURE MATRIX OF SHAPE: (461, 11)\n",
      "*----------------------------------------------------*\n",
      "CREATING musicFan INSTANCE FOR USER: 4 WITH ITEMxFEATURE MATRIX OF SHAPE: (514, 11)\n",
      "*----------------------------------------------------*\n",
      "CREATING musicFan INSTANCE FOR USER: 5 WITH ITEMxFEATURE MATRIX OF SHAPE: (443, 11)\n",
      "*----------------------------------------------------*\n",
      "CREATING musicFan INSTANCE FOR USER: 6 WITH ITEMxFEATURE MATRIX OF SHAPE: (331, 11)\n",
      "*----------------------------------------------------*\n",
      "CREATING musicFan INSTANCE FOR USER: 7 WITH ITEMxFEATURE MATRIX OF SHAPE: (270, 11)\n",
      "*----------------------------------------------------*\n",
      "CREATING musicFan INSTANCE FOR USER: 8 WITH ITEMxFEATURE MATRIX OF SHAPE: (357, 11)\n",
      "*----------------------------------------------------*\n",
      "CREATING musicFan INSTANCE FOR USER: 9 WITH ITEMxFEATURE MATRIX OF SHAPE: (382, 11)\n",
      "*----------------------------------------------------*\n"
     ]
    }
   ],
   "source": [
    "#This loop creates a list of m_Fan objects.\n",
    "for i in range(10):\n",
    "    temp = [[user_Data[x][y+1] for x in range(len(user_Data)) if i == int(user_Data[x][14])] for y in range(16) if y !=13]\n",
    "    m_Fans.append(musicFan(i,temp))\n",
    "    #m_Fans[i].makeScatters(songs)\n",
    "    #m_Fans[i].makeHistos(songs)"
   ]
  },
  {
   "cell_type": "code",
   "execution_count": 27,
   "metadata": {},
   "outputs": [
    {
     "name": "stdout",
     "output_type": "stream",
     "text": [
      "GETTING ADDITONAL DATA FROM DB FILE FOR USER: 0\n",
      "*----------------------------------------------------*\n",
      "GETTING ADDITONAL DATA FROM DB FILE FOR USER: 1\n",
      "*----------------------------------------------------*\n",
      "GETTING ADDITONAL DATA FROM DB FILE FOR USER: 2\n",
      "*----------------------------------------------------*\n",
      "GETTING ADDITONAL DATA FROM DB FILE FOR USER: 3\n",
      "*----------------------------------------------------*\n",
      "GETTING ADDITONAL DATA FROM DB FILE FOR USER: 4\n",
      "*----------------------------------------------------*\n",
      "GETTING ADDITONAL DATA FROM DB FILE FOR USER: 5\n",
      "*----------------------------------------------------*\n",
      "GETTING ADDITONAL DATA FROM DB FILE FOR USER: 6\n",
      "*----------------------------------------------------*\n",
      "GETTING ADDITONAL DATA FROM DB FILE FOR USER: 7\n",
      "*----------------------------------------------------*\n",
      "GETTING ADDITONAL DATA FROM DB FILE FOR USER: 8\n",
      "*----------------------------------------------------*\n",
      "GETTING ADDITONAL DATA FROM DB FILE FOR USER: 9\n",
      "*----------------------------------------------------*\n"
     ]
    }
   ],
   "source": [
    "for i in range(10):\n",
    "    m_Fans[i].getFromData(data_Base)"
   ]
  },
  {
   "cell_type": "code",
   "execution_count": 29,
   "metadata": {},
   "outputs": [
    {
     "name": "stdout",
     "output_type": "stream",
     "text": [
      "INITIATING MODEL TESTING\n",
      "*----------------------------------------------------*\n",
      "For a user, i, the chance of cosineSimilarity recommendation being better than random song picks is:\n",
      "\n",
      "For: 0 : 0.67\n",
      "For: 1 : 0.57\n",
      "For: 2 : 0.77\n",
      "For: 3 : 0.82\n",
      "For: 4 : 0.41\n",
      "For: 5 : 0.86\n",
      "For: 6 : 0.57\n",
      "For: 7 : 0.51\n",
      "For: 8 : 0.48\n",
      "For: 9 : 0.98\n",
      "*----------------------------------------------------*\n",
      "MODEL TESTING COMPLETE\n",
      "INITIATING MODEL TESTING\n",
      "*----------------------------------------------------*\n",
      "For a user, i, the average accuracy of KNN recommendation is:\n",
      "\n",
      "For: 0 : 0.6274509803921574\n",
      "For: 1 : 0.5292372881355936\n",
      "For: 2 : 0.6813821138211378\n",
      "For: 3 : 0.7949640287769781\n",
      "For: 4 : 0.757483870967742\n",
      "For: 5 : 0.5657894736842103\n",
      "For: 6 : 0.7019\n",
      "For: 7 : 0.5543209876543209\n",
      "For: 8 : 0.5044444444444445\n",
      "For: 9 : 0.7187826086956526\n",
      "*----------------------------------------------------*\n",
      "MODEL TESTING COMPLETE\n",
      "INITIATING MODEL TESTING\n",
      "*----------------------------------------------------*\n",
      "For a user, i, the average accuracy of logistic regression recommendation is:\n",
      "\n",
      "For: 0 : 0.678529411764706\n",
      "For: 1 : 0.5804237288135593\n",
      "For: 2 : 0.7234146341463417\n",
      "For: 3 : 0.8199999999999993\n",
      "For: 4 : 0.7897419354838712\n",
      "For: 5 : 0.5944360902255641\n",
      "For: 6 : 0.7407999999999997\n",
      "For: 7 : 0.5967901234567902\n",
      "For: 8 : 0.5402777777777782\n",
      "For: 9 : 0.7296521739130436\n",
      "*----------------------------------------------------*\n",
      "MODEL TESTING COMPLETE\n"
     ]
    }
   ],
   "source": [
    "#this test the models for each user.\n",
    "musicFan.train_Test(m_Fans,cSim=True)\n",
    "musicFan.train_Test(m_Fans,KNN=True)\n",
    "musicFan.train_Test(m_Fans,logistic=True)"
   ]
  },
  {
   "cell_type": "code",
   "execution_count": 30,
   "metadata": {},
   "outputs": [
    {
     "name": "stdout",
     "output_type": "stream",
     "text": [
      "(109, 8)\n",
      "(265119, 8)\n",
      "Recommended songs for user: 0 .\n",
      "ID [('7qKJrEYAO22JNHSrgK43lg', 63), ('6CAdgnhKyJYtpJiVxTdDfT', 63), ('1XzeGTpwZPefPTI81Fde4B', 60), ('7D5qCBnl1Qab2qndKHXcLG', 60), ('7KWRfJkrBghJDSphN1taut', 60), ('2Gyuge3kQa0KBJ5EsMhYNJ', 57), ('4HO9PDJLT2j2vRsIkkIPur', 57), ('2ZApTsveC0XnZDPfpOgnx6', 54), ('7AARXbifhQ0g7DdUxDsvON', 54), ('2Qi2RbXilMTewXIu6QFamP', 54)]\n",
      "(165, 8)\n",
      "(265119, 8)\n",
      "Recommended songs for user: 1 .\n",
      "ID [('5H9aMQdVgwkuHAYUyHJ3zX', 99), ('6MEw0tLXlyX3Ydwh6cVaTS', 93), ('7qKJrEYAO22JNHSrgK43lg', 93), ('0leoH2BvQMQvj1JofWSP4Q', 90), ('4gXkajxmaVyOeZAVwzKSlL', 87), ('4Svrybqf1k5htl3pHQNCQW', 78), ('2w4kDTXOirNIKvpmONBdH6', 76), ('44RuG8ZT3NoRGHnrNNkvRa', 75), ('4lHSiOcWSMm2jSgla0qbZ0', 72), ('5L7jLTNkklV0GNk0P289TH', 72)]\n",
      "(113, 8)\n",
      "(265119, 8)\n",
      "Recommended songs for user: 2 .\n",
      "ID [('0leoH2BvQMQvj1JofWSP4Q', 84), ('5H9aMQdVgwkuHAYUyHJ3zX', 72), ('44RuG8ZT3NoRGHnrNNkvRa', 72), ('7qKJrEYAO22JNHSrgK43lg', 69), ('2m2x2zvpzbyvykadQlW9pi', 69), ('36vIoT0B7PQIEOb4uvuULB', 69), ('5L7jLTNkklV0GNk0P289TH', 66), ('60kjqKdVW9HgxiQeDmYFS6', 66), ('4gXkajxmaVyOeZAVwzKSlL', 66), ('5jkM3MAWyCtkkDt1kUVema', 63)]\n",
      "(84, 8)\n",
      "(265119, 8)\n",
      "Recommended songs for user: 3 .\n",
      "ID [('5H9aMQdVgwkuHAYUyHJ3zX', 60), ('44RuG8ZT3NoRGHnrNNkvRa', 57), ('4Svrybqf1k5htl3pHQNCQW', 54), ('0leoH2BvQMQvj1JofWSP4Q', 54), ('6MEw0tLXlyX3Ydwh6cVaTS', 51), ('4gXkajxmaVyOeZAVwzKSlL', 51), ('6tUgKdTTs2a3ngGzThR1Km', 48), ('1IsGvCenF6eG0bAevUc3Ug', 48), ('0RUIlXRciXuTEhsvyBllJv', 48), ('2ogXQxayKyKQ797r86DRHa', 48)]\n",
      "(108, 8)\n",
      "(265119, 8)\n",
      "Recommended songs for user: 4 .\n",
      "ID [('0leoH2BvQMQvj1JofWSP4Q', 66), ('7qKJrEYAO22JNHSrgK43lg', 63), ('6MEw0tLXlyX3Ydwh6cVaTS', 60), ('2ZApTsveC0XnZDPfpOgnx6', 57), ('5L7jLTNkklV0GNk0P289TH', 57), ('7KWRfJkrBghJDSphN1taut', 57), ('4gnMgwRryrpR4z8SBMi0fn', 54), ('7AARXbifhQ0g7DdUxDsvON', 54), ('63ns3ZgzXg2zmRsg5rDKoT', 54), ('3nFFOlFMx8QYE4bYDj7Ojr', 54)]\n",
      "(266, 8)\n",
      "(265119, 8)\n",
      "Recommended songs for user: 5 .\n",
      "ID [('0leoH2BvQMQvj1JofWSP4Q', 177), ('5H9aMQdVgwkuHAYUyHJ3zX', 159), ('7qKJrEYAO22JNHSrgK43lg', 153), ('4gXkajxmaVyOeZAVwzKSlL', 147), ('44RuG8ZT3NoRGHnrNNkvRa', 141), ('4ZjFaj37C57nhQCoQDFR0w', 141), ('2ytcrEdTqtd6teFOFWY1ee', 138), ('6MEw0tLXlyX3Ydwh6cVaTS', 135), ('2ogXQxayKyKQ797r86DRHa', 135), ('4Svrybqf1k5htl3pHQNCQW', 132)]\n",
      "(86, 8)\n",
      "(265119, 8)\n",
      "Recommended songs for user: 6 .\n",
      "ID [('60R5mI0a4kR7iuXBNwgJYV', 48), ('03zEFYnyVH8LVVOShobJrK', 39), ('47BWY4dvuxguFA8SzKRqPd', 39), ('2t3QSGZC9v8Ob0Oeo96NPU', 39), ('6LuHd5ILdHdF5SzTOc9hwn', 39), ('7fDgcuPeQrEUKmrMrsDacH', 39), ('0spNDjQqVj13HYfi26oqiz', 39), ('4DabWWIV2hckWSEOuvIEJr', 39), ('22uN7SNd6WqmJ3ZMhlvs1P', 36), ('4khmpi96sWEGlcOM4vFgto', 36)]\n",
      "(108, 8)\n",
      "(265119, 8)\n",
      "Recommended songs for user: 7 .\n",
      "ID [('44RuG8ZT3NoRGHnrNNkvRa', 63), ('0leoH2BvQMQvj1JofWSP4Q', 60), ('4Svrybqf1k5htl3pHQNCQW', 57), ('2qeU8ul3IbixP5HlyYQiCQ', 48), ('5L7jLTNkklV0GNk0P289TH', 48), ('6CTu27WSiyHAJuAl2xZNJD', 48), ('4gXkajxmaVyOeZAVwzKSlL', 48), ('4e8ynTlXHz8R6wLMYmHI25', 48), ('2ogXQxayKyKQ797r86DRHa', 48), ('1XzeGTpwZPefPTI81Fde4B', 48)]\n",
      "(163, 8)\n",
      "(265119, 8)\n",
      "Recommended songs for user: 8 .\n",
      "ID [('0leoH2BvQMQvj1JofWSP4Q', 114), ('5H9aMQdVgwkuHAYUyHJ3zX', 114), ('44RuG8ZT3NoRGHnrNNkvRa', 102), ('6MEw0tLXlyX3Ydwh6cVaTS', 102), ('4gXkajxmaVyOeZAVwzKSlL', 99), ('4Svrybqf1k5htl3pHQNCQW', 96), ('60kjqKdVW9HgxiQeDmYFS6', 96), ('20WdUdq83HQtjxaoWyksYH', 96), ('3MCBo2eFCDrc5qk68mw8mK', 96), ('2u5Igu59ffl0QMhuQ5fUmA', 96)]\n",
      "(105, 8)\n",
      "(265119, 8)\n",
      "Recommended songs for user: 9 .\n",
      "ID [('0leoH2BvQMQvj1JofWSP4Q', 63), ('60R5mI0a4kR7iuXBNwgJYV', 56), ('2SgsqssE1hVtsYi9TNp0wD', 52), ('22uN7SNd6WqmJ3ZMhlvs1P', 51), ('7fDgcuPeQrEUKmrMrsDacH', 51), ('03zEFYnyVH8LVVOShobJrK', 48), ('70lNECZUs1XPlbHH6NQexK', 48), ('47BWY4dvuxguFA8SzKRqPd', 48), ('2kKOTJlqwvzuHCY3YhZlS8', 46), ('3YZybnmjCy30nEw2McILsU', 46)]\n"
     ]
    }
   ],
   "source": [
    "#running cSim model and outputting recommendation:\n",
    "for i in range(10):\n",
    "    m_Fans[i].cosineSimilarity(songs,outputRec=True)"
   ]
  },
  {
   "cell_type": "code",
   "execution_count": null,
   "metadata": {},
   "outputs": [],
   "source": []
  }
 ],
 "metadata": {
  "kernelspec": {
   "display_name": "Python 3",
   "language": "python",
   "name": "python3"
  },
  "language_info": {
   "codemirror_mode": {
    "name": "ipython",
    "version": 3
   },
   "file_extension": ".py",
   "mimetype": "text/x-python",
   "name": "python",
   "nbconvert_exporter": "python",
   "pygments_lexer": "ipython3",
   "version": "3.6.4"
  }
 },
 "nbformat": 4,
 "nbformat_minor": 2
}
